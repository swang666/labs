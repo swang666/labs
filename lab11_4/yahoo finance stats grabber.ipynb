{
 "cells": [
  {
   "cell_type": "code",
   "execution_count": 13,
   "metadata": {},
   "outputs": [],
   "source": [
    "import requests\n",
    "from bs4 import BeautifulSoup\n",
    "import numpy as np\n",
    "import pandas as pd\n",
    "import re"
   ]
  },
  {
   "cell_type": "code",
   "execution_count": 44,
   "metadata": {},
   "outputs": [],
   "source": [
    "url = 'https://finance.yahoo.com/quote/FB/key-statistics?p=FB'\n",
    "source_code = requests.get(url)\n",
    "plaintext = source_code.text\n",
    "soup = BeautifulSoup(plaintext, 'html.parser')"
   ]
  },
  {
   "cell_type": "code",
   "execution_count": 45,
   "metadata": {},
   "outputs": [],
   "source": [
    "tables = soup.findAll('table')[1:]"
   ]
  },
  {
   "cell_type": "code",
   "execution_count": 46,
   "metadata": {},
   "outputs": [],
   "source": [
    "n = len(tables)"
   ]
  },
  {
   "cell_type": "code",
   "execution_count": 47,
   "metadata": {},
   "outputs": [],
   "source": [
    "table_dict = {}"
   ]
  },
  {
   "cell_type": "code",
   "execution_count": 48,
   "metadata": {},
   "outputs": [],
   "source": [
    "for i in range(n):\n",
    "    col1 = []\n",
    "    col2 = []\n",
    "    for row in tables[i].findAll('tr'):\n",
    "        cols = [x.text for x in row.findAll('td')]\n",
    "        col1.append(cols[0])\n",
    "        col2.append(cols[1])\n",
    "    df = pd.DataFrame({'label': col1,\n",
    "                       'value': col2})\n",
    "    table_dict[table_name[i].text] = df"
   ]
  },
  {
   "cell_type": "code",
   "execution_count": 49,
   "metadata": {},
   "outputs": [
    {
     "data": {
      "text/plain": [
       "dict_keys(['Stock Price History', 'Share Statistics', 'Dividends & Splits', 'Fiscal Year', 'Profitability', 'Management Effectiveness', 'Income Statement', 'Balance Sheet', 'Cash Flow Statement'])"
      ]
     },
     "execution_count": 49,
     "metadata": {},
     "output_type": "execute_result"
    }
   ],
   "source": [
    "table_dict.keys()"
   ]
  },
  {
   "cell_type": "code",
   "execution_count": 50,
   "metadata": {},
   "outputs": [
    {
     "data": {
      "text/html": [
       "<div>\n",
       "<style scoped>\n",
       "    .dataframe tbody tr th:only-of-type {\n",
       "        vertical-align: middle;\n",
       "    }\n",
       "\n",
       "    .dataframe tbody tr th {\n",
       "        vertical-align: top;\n",
       "    }\n",
       "\n",
       "    .dataframe thead th {\n",
       "        text-align: right;\n",
       "    }\n",
       "</style>\n",
       "<table border=\"1\" class=\"dataframe\">\n",
       "  <thead>\n",
       "    <tr style=\"text-align: right;\">\n",
       "      <th></th>\n",
       "      <th>label</th>\n",
       "      <th>value</th>\n",
       "    </tr>\n",
       "  </thead>\n",
       "  <tbody>\n",
       "    <tr>\n",
       "      <th>0</th>\n",
       "      <td>Revenue (ttm)</td>\n",
       "      <td>66.53B</td>\n",
       "    </tr>\n",
       "    <tr>\n",
       "      <th>1</th>\n",
       "      <td>Revenue Per Share (ttm)</td>\n",
       "      <td>23.26</td>\n",
       "    </tr>\n",
       "    <tr>\n",
       "      <th>2</th>\n",
       "      <td>Quarterly Revenue Growth (yoy)</td>\n",
       "      <td>28.60%</td>\n",
       "    </tr>\n",
       "    <tr>\n",
       "      <th>3</th>\n",
       "      <td>Gross Profit (ttm)</td>\n",
       "      <td>46.48B</td>\n",
       "    </tr>\n",
       "    <tr>\n",
       "      <th>4</th>\n",
       "      <td>EBITDA</td>\n",
       "      <td>28.45B</td>\n",
       "    </tr>\n",
       "    <tr>\n",
       "      <th>5</th>\n",
       "      <td>Net Income Avi to Common (ttm)</td>\n",
       "      <td>18.02B</td>\n",
       "    </tr>\n",
       "    <tr>\n",
       "      <th>6</th>\n",
       "      <td>Diluted EPS (ttm)</td>\n",
       "      <td>6.26</td>\n",
       "    </tr>\n",
       "    <tr>\n",
       "      <th>7</th>\n",
       "      <td>Quarterly Earnings Growth (yoy)</td>\n",
       "      <td>18.60%</td>\n",
       "    </tr>\n",
       "  </tbody>\n",
       "</table>\n",
       "</div>"
      ],
      "text/plain": [
       "                             label   value\n",
       "0                    Revenue (ttm)  66.53B\n",
       "1          Revenue Per Share (ttm)   23.26\n",
       "2   Quarterly Revenue Growth (yoy)  28.60%\n",
       "3               Gross Profit (ttm)  46.48B\n",
       "4                          EBITDA   28.45B\n",
       "5   Net Income Avi to Common (ttm)  18.02B\n",
       "6                Diluted EPS (ttm)    6.26\n",
       "7  Quarterly Earnings Growth (yoy)  18.60%"
      ]
     },
     "execution_count": 50,
     "metadata": {},
     "output_type": "execute_result"
    }
   ],
   "source": [
    "table_dict['Income Statement']"
   ]
  },
  {
   "cell_type": "code",
   "execution_count": 58,
   "metadata": {},
   "outputs": [],
   "source": [
    "def grab_stats(ticker):\n",
    "    url = 'https://finance.yahoo.com/quote/'+ ticker + '/key-statistics?p=' + ticker\n",
    "    source_code = requests.get(url)\n",
    "    plaintext = source_code.text\n",
    "    soup = BeautifulSoup(plaintext, 'html.parser')\n",
    "    tables = soup.findAll('table')[1:]\n",
    "    n = len(tables)\n",
    "    table_dict = {}\n",
    "    for i in range(n):\n",
    "        col1 = []\n",
    "        col2 = []\n",
    "        for row in tables[i].findAll('tr'):\n",
    "            cols = [x.text for x in row.findAll('td')]\n",
    "            col1.append(cols[0])\n",
    "            col2.append(cols[1])\n",
    "        df = pd.DataFrame({'label': col1,\n",
    "                           'value': col2})\n",
    "        table_dict[table_name[i].text] = df\n",
    "    return table_dict"
   ]
  },
  {
   "cell_type": "code",
   "execution_count": 61,
   "metadata": {},
   "outputs": [
    {
     "name": "stdout",
     "output_type": "stream",
     "text": [
      "enter your ticker: BA\n",
      "Stock Price History :\n",
      "                       label   value\n",
      "0        Beta (3Y Monthly)     1.24\n",
      "1          52-Week Change 3  15.81%\n",
      "2   S&P500 52-Week Change 3  15.97%\n",
      "3            52 Week High 3  446.01\n",
      "4             52 Week Low 3  292.47\n",
      "5   50-Day Moving Average 3  359.68\n",
      "6  200-Day Moving Average 3  357.61 \n",
      "\n",
      "Share Statistics :\n",
      "                                              label    value\n",
      "0                              Avg Vol (3 month) 3    4.51M\n",
      "1                               Avg Vol (10 day) 3    5.79M\n",
      "2                             Shares Outstanding 5  562.79M\n",
      "3                                           Float   528.66M\n",
      "4                             % Held by Insiders 1    0.07%\n",
      "5                         % Held by Institutions 1   70.56%\n",
      "6                    Shares Short (Oct 31, 2019) 4    5.68M\n",
      "7                     Short Ratio (Oct 31, 2019) 4     1.17\n",
      "8                Short % of Float (Oct 31, 2019) 4    1.01%\n",
      "9   Short % of Shares Outstanding (Oct 31, 2019) 4    1.01%\n",
      "10       Shares Short (prior month Sep 30, 2019) 4    5.82M \n",
      "\n",
      "Dividends & Splits :\n",
      "                                label        value\n",
      "0     Forward Annual Dividend Rate 4         8.22\n",
      "1    Forward Annual Dividend Yield 4        2.24%\n",
      "2    Trailing Annual Dividend Rate 3         7.88\n",
      "3   Trailing Annual Dividend Yield 3        2.12%\n",
      "4    5 Year Average Dividend Yield 4         2.32\n",
      "5                     Payout Ratio 4      120.05%\n",
      "6                    Dividend Date 3  Dec 6, 2019\n",
      "7                 Ex-Dividend Date 4  Nov 7, 2019\n",
      "8  Last Split Factor (new per old) 2          1/2\n",
      "9                  Last Split Date 3  Jun 9, 1997 \n",
      "\n",
      "Fiscal Year :\n",
      "                        label         value\n",
      "0          Fiscal Year Ends   Dec 31, 2018\n",
      "1  Most Recent Quarter (mrq)  Sep 30, 2019 \n",
      "\n",
      "Profitability :\n",
      "                     label  value\n",
      "0          Profit Margin   4.37%\n",
      "1  Operating Margin (ttm)  4.98% \n",
      "\n",
      "Management Effectiveness :\n",
      "                     label  value\n",
      "0  Return on Assets (ttm)  2.19%\n",
      "1  Return on Equity (ttm)    N/A \n",
      "\n",
      "Income Statement :\n",
      "                              label    value\n",
      "0                    Revenue (ttm)   86.99B\n",
      "1          Revenue Per Share (ttm)   153.28\n",
      "2   Quarterly Revenue Growth (yoy)  -20.50%\n",
      "3               Gross Profit (ttm)   19.64B\n",
      "4                          EBITDA     6.56B\n",
      "5   Net Income Avi to Common (ttm)     3.8B\n",
      "6                Diluted EPS (ttm)     6.64\n",
      "7  Quarterly Earnings Growth (yoy)  -50.60% \n",
      "\n",
      "Balance Sheet :\n",
      "                         label   value\n",
      "0            Total Cash (mrq)  10.91B\n",
      "1  Total Cash Per Share (mrq)   19.39\n",
      "2            Total Debt (mrq)  25.88B\n",
      "3     Total Debt/Equity (mrq)     N/A\n",
      "4         Current Ratio (mrq)    1.11\n",
      "5  Book Value Per Share (mrq)   -7.31 \n",
      "\n",
      "Cash Flow Statement :\n",
      "                           label     value\n",
      "0     Operating Cash Flow (ttm)     2.72B\n",
      "1  Levered Free Cash Flow (ttm)  -299.62M \n",
      "\n"
     ]
    }
   ],
   "source": [
    "ticker = input('enter your ticker: ')\n",
    "table_dict = grab_stats(ticker)\n",
    "for key in table_dict:\n",
    "    print(key, ':\\n', table_dict[key], '\\n')"
   ]
  },
  {
   "cell_type": "code",
   "execution_count": null,
   "metadata": {},
   "outputs": [],
   "source": []
  }
 ],
 "metadata": {
  "kernelspec": {
   "display_name": "Python 3",
   "language": "python",
   "name": "python3"
  },
  "language_info": {
   "codemirror_mode": {
    "name": "ipython",
    "version": 3
   },
   "file_extension": ".py",
   "mimetype": "text/x-python",
   "name": "python",
   "nbconvert_exporter": "python",
   "pygments_lexer": "ipython3",
   "version": "3.7.4"
  }
 },
 "nbformat": 4,
 "nbformat_minor": 2
}
